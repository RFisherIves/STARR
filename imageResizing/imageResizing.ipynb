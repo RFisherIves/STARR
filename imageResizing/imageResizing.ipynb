{
 "cells": [
  {
   "cell_type": "markdown",
   "metadata": {},
   "source": [
    "# STARR Project - Image Resizing Python Notebook\n",
    "\n",
    "Author: George Gorospe\n",
    "\n",
    "This notebook is used to learn how to resize images collected by phones or other cameras to the size of photos we need for our robot's machine learning models.\n",
    "\n",
    "First, we'll start by importing the necessary libraries. If you encounter an error while importing these libraries, use the pip command to install them. \"pip install -U scikit-image\""
   ]
  },
  {
   "cell_type": "code",
   "execution_count": null,
   "metadata": {},
   "outputs": [],
   "source": [
    "from skimage import data, io, filters\n",
    "from skimage.transform import resize\n",
    "import numpy as np\n",
    "import matplotlib.pyplot as plt\n",
    "import os\n"
   ]
  },
  {
   "cell_type": "markdown",
   "metadata": {},
   "source": [
    "We will be using Scikit-image library for our image processing. It uses NumPy arrays for managing image objects.\n",
    "It is fast and a very common library used by professional data scientists, so learning how to use it will be helpful for future exercises.\n",
    "\n",
    "Next, we'll import and display an image. "
   ]
  },
  {
   "cell_type": "code",
   "execution_count": null,
   "metadata": {},
   "outputs": [],
   "source": [
    "image = io.imread('Can/IMG_2230.jpg')\n",
    "plt.imshow(image)"
   ]
  },
  {
   "cell_type": "markdown",
   "metadata": {},
   "source": [
    "Now that we have an image loaded and displayed we can start to think about the way data is stored in an image.\n",
    "A computer stores an image as an array of color levels, elements in this array are called pixels.\n",
    "For each pixel, there are color values for red, green, and blue.\n",
    "\n",
    "This means that when we look at the shape of the image we'll see a 3 dimensional array, representing the hight, width, and color values of the image."
   ]
  },
  {
   "cell_type": "code",
   "execution_count": null,
   "metadata": {},
   "outputs": [],
   "source": [
    "image.shape"
   ]
  },
  {
   "cell_type": "markdown",
   "metadata": {},
   "source": [
    "Here we can see that the image is actually quite big in comparison with the images that we collect with our robots.\n",
    "We really want our images to be:\n",
    "224 x 224 x 3\n",
    "\n",
    "That is a square image.\n",
    "So, in this case, the image will not work without some intelligent cropping.\n",
    "Instead we'll now load a new, square image captured from a phone."
   ]
  },
  {
   "cell_type": "code",
   "execution_count": null,
   "metadata": {},
   "outputs": [],
   "source": [
    "square_image = io.imread('Can/IMG_2233.jpg')\n",
    "plt.imshow(square_image)\n",
    "square_image.shape"
   ]
  },
  {
   "cell_type": "markdown",
   "metadata": {},
   "source": [
    "The new image is square and of size, 3024 x 3024 x 3. Where the last dimension is the red, blue, and green color values."
   ]
  },
  {
   "cell_type": "markdown",
   "metadata": {},
   "source": [
    "Next, we want to try scaling the image down to the appropriate size."
   ]
  },
  {
   "cell_type": "code",
   "execution_count": null,
   "metadata": {},
   "outputs": [],
   "source": [
    "\n",
    "image_resized = resize(square_image, (224, 224), anti_aliasing=True)\n",
    "plt.imshow(image_resized)\n",
    "image_resized.shape"
   ]
  },
  {
   "cell_type": "markdown",
   "metadata": {},
   "source": [
    "The resulting image is square and the size that we want!\n",
    "But, how can we apply this type of resizing to lots of images all at the same time?\n",
    "\n",
    "Now lets look at another photo from a different photo set, this time of a book."
   ]
  },
  {
   "cell_type": "code",
   "execution_count": null,
   "metadata": {},
   "outputs": [],
   "source": [
    "book = io.imread('book/IMG-2252.jpg')\n",
    "plt.imshow(book)\n",
    "book.shape"
   ]
  },
  {
   "cell_type": "markdown",
   "metadata": {},
   "source": [
    "I used my phone and collected lots of photos of my robotics book, they're all located in the book folder.\n",
    "Remember that the name of the folder is the label for the images that are inside. The actual name of the file isn't as important."
   ]
  },
  {
   "cell_type": "code",
   "execution_count": null,
   "metadata": {},
   "outputs": [],
   "source": [
    "# What images do you want to scale? \n",
    "# Where are they located relative to the current directory?\n",
    "# Folder where the images are located\n",
    "folder = '/book'"
   ]
  },
  {
   "cell_type": "markdown",
   "metadata": {},
   "source": [
    "Now that we've selected the folder where the files are located we can start the process of scaling each file in the folder. It would take a long time to select each file then scale it by hand, but fortunately for us, python has a number of tools to help us."
   ]
  },
  {
   "cell_type": "code",
   "execution_count": null,
   "metadata": {},
   "outputs": [],
   "source": [
    "# Start by obtaining the current working directory (cwd)\n",
    "cwd = os.getcwd()\n",
    "\n",
    "# Lets get a list of all the files in the folder\n",
    "fileList = os.listdir(cwd+folder)\n",
    "\n",
    "# We are about to scale all the images in the folder\n",
    "# The new images will be saved in a new folder.\n",
    "newFolder = folder + '_scaled'\n",
    "\n",
    "#Make the new directory, \"scaled\"\n",
    "if not os.path.exists(cwd + folder + '/' + newFolder):\n",
    "    os.mkdir(cwd + folder + '/' + newFolder)\n",
    "    \n",
    "    print('Now scaling images from the directory: ' + folder)\n",
    "\n",
    "    # Now we will iterate across each file in the directory\n",
    "    # The name of the file we're working on will be held in the iName variable\n",
    "    # Process: 1) load the file, 2) resize the iamge, 3) save the images w/ new name in new folder\n",
    "    for imageName in fileList:\n",
    "        \n",
    "        # Since we only want to work with image files we'll add another conditional\n",
    "        if (imageName[-4:] == '.jpg'):   # Here we use negative indexing to get just the last 4 letters\n",
    "               \n",
    "            print('Now working on: ' + imageName)\n",
    "\n",
    "            # Load image file into memory with io.imread\n",
    "            # folder + fileList is the location and name of images\n",
    "            image = io.imread(cwd + folder + '/' + imageName) \n",
    "\n",
    "            # Scale the image\n",
    "            image_resized = resize(image, (224, 224), anti_aliasing=True)\n",
    "\n",
    "            # Save new scaled image to '/scaled' folder\n",
    "            io.imsave(cwd + folder + '/' + newFolder + '/' + imageName[0:-4] + '_scaled.jpeg', image_resized)\n",
    "print('Image scaling complete.')"
   ]
  },
  {
   "cell_type": "markdown",
   "metadata": {},
   "source": [
    "Now if you look in the book folder, you'll see a new folder called \"book_scaled\" this folder contains the new scaled photos we just created.\n",
    "\n",
    "Just a quick review of the process:\n",
    "1. choose which folder contains the photos shot with your phone. Remember they need to be 1x1 ratio, square.\n",
    "2. the algorithm creates a listing of all the files in this folder, \"fileList\"\n",
    "3. the algorithm creates a new folder for the scaled photos.\n",
    "4. the algorithm then treats only image files in the folder, '.jpg' files only.\n",
    "5. the algorithm iterates over all images files, loading them into memory, resizing them, then saving them with a new name to the new folder.\n",
    "\n",
    "All the new scaled files in the folder can be uploaded to our google drive image library with a browser.\n",
    "\n",
    "IMPORTANT: removed the '_scaled' portion of the folder name when you upload to google drive. This is because the folder name will serve as the image label."
   ]
  }
 ],
 "metadata": {
  "kernelspec": {
   "display_name": "Python 3",
   "language": "python",
   "name": "python3"
  },
  "language_info": {
   "codemirror_mode": {
    "name": "ipython",
    "version": 3
   },
   "file_extension": ".py",
   "mimetype": "text/x-python",
   "name": "python",
   "nbconvert_exporter": "python",
   "pygments_lexer": "ipython3",
   "version": "3.7.3"
  }
 },
 "nbformat": 4,
 "nbformat_minor": 4
}
